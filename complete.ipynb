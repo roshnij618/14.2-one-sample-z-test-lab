{
 "cells": [
  {
   "cell_type": "markdown",
   "metadata": {},
   "source": [
    "# One-Sample z-test - Lab\n",
    "\n",
    "## Introduction\n",
    "In this lab, you'll perform a few quick tests to help you better understand how hypothesis testing works.\n",
    "\n",
    "## Objectives\n",
    "You will be able to:\n",
    "\n",
    "* Explain use cases for a 1-sample z-test\n",
    "* Set up null and alternative hypotheses\n",
    "* Use the z-table and scipy methods to acquire the p value for a given z-score\n",
    "* Calculate and interpret p-value for significance of results\n",
    "\n",
    "## Exercise 1\n",
    "A fast-food chain claims that the mean time to order food at their restaurants is 60 seconds, with a standard deviation of 30 seconds. You decide to put this claim to the test and go to one of the restaurants to observe actual waiting times. You take a sample of 36 customers and find that the mean order time was 75 seconds. Does this finding provide enough evidence to contradict the fast food chain's claim of fast service?\n",
    "\n",
    "Follow the 5 steps shown in previous lesson and use $\\alpha$ = 0.05. "
   ]
  },
  {
   "cell_type": "markdown",
   "metadata": {},
   "source": [
    "# Step 1: State your null and alternative hypotheses\n",
    "\n",
    "H0: There is no difference between the fast food chain's actual service times and claimed service times. (Actual <= 60 seconds)\n",
    "\n",
    "H1: The fast food chain's actual service time is significantly slower than their claims.  (Actual > 60 seconds)"
   ]
  },
  {
   "cell_type": "code",
   "execution_count": 6,
   "metadata": {},
   "outputs": [
    {
     "name": "stdout",
     "output_type": "stream",
     "text": [
      "p = 0.0013498980316300933, z = 3.0\n"
     ]
    }
   ],
   "source": [
    "import numpy as np\n",
    "import scipy.stats as stats\n",
    "\n",
    "\n",
    "# Step 2: set alpha\n",
    "\n",
    "a = 0.05\n",
    "\n",
    "#Step 3: Calculate test statistic\n",
    "\n",
    "mu = 60\n",
    "sigma = 30\n",
    "mean = 75\n",
    "n = 36\n",
    "\n",
    "z = (mean - mu)/(sigma/np.sqrt(n))\n",
    "\n",
    "#Step 4: Calculate p\n",
    "\n",
    "p = stats.norm.sf(abs(z))\n",
    "\n",
    "print(f\"p = {p}, z = {z}\")\n",
    "\n",
    "\n",
    "# (p = 0.0013498980316301035, z = 3.0)"
   ]
  },
  {
   "cell_type": "code",
   "execution_count": 18,
   "metadata": {},
   "outputs": [
    {
     "name": "stdout",
     "output_type": "stream",
     "text": [
      "True\n",
      "Since p < 0.05, we can reject the null hypothesis. The restaurant's actual service times are significantly slower than their claims.\n"
     ]
    }
   ],
   "source": [
    "# Step 5: Interpret the results in terms of the p-value\n",
    "\n",
    "print(p < a)\n",
    "\n",
    "print(\"Since p < 0.05, we can reject the null hypothesis. \\\n",
    "The restaurant's actual service times are significantly slower than their claims.\")\n",
    "\n"
   ]
  },
  {
   "cell_type": "markdown",
   "metadata": {},
   "source": [
    "## Exercise 2\n",
    "\n",
    "25 students complete a preparation program for taking the SAT test.  Here are the SAT scores from the 25 students who completed the program:\n",
    "\n",
    "``\n",
    "434 694 457 534 720 400 484 478 610 641 425 636 454 \n",
    "514 563 370 499 640 501 625 612 471 598 509 531\n",
    "``\n",
    "\n",
    "We know that the population average for SAT scores is 500 with a standard deviation of 100.\n",
    "\n",
    "Are our 25 students’ SAT scores significantly higher than the population's mean score? \n",
    "\n",
    "*Note that the SAT preparation program claims that it will increase (and not decrease) the SAT score.  So, you can conduct a one-directional test. (alpha = .05).*"
   ]
  },
  {
   "cell_type": "markdown",
   "metadata": {},
   "source": [
    "#### Step 1: State your hypotheses\n",
    "\n",
    "H0: The students' SAT scores are not higher than the population average SAT scores (mean <= 500)\n",
    "Ha: The students' SAT scores are significantly higher than the population average SAT scores (mean > 500)\n"
   ]
  },
  {
   "cell_type": "code",
   "execution_count": 25,
   "metadata": {},
   "outputs": [
    {
     "name": "stdout",
     "output_type": "stream",
     "text": [
      "z = 1.8\n",
      "p = 0.03593031911292579\n"
     ]
    }
   ],
   "source": [
    "# Step 2: Set alpha\n",
    "a = 0.05\n",
    "\n",
    "# Step 3: Test Statistic\n",
    "\n",
    "mu = 500\n",
    "sigma = 100\n",
    "student_scores = [434, 694, 457, 534, 720, 400, 484, 478, 610, 641, 425, 636, 454, 514, 563, 370, 499, 640, 501, 625, 612, 471, 598, 509, 531]\n",
    "\n",
    "z = (np.mean(student_scores) - mu) / (sigma/np.sqrt(len(student_scores)))\n",
    "\n",
    "print(f'z = {z}')\n",
    "\n",
    "#Step 4: Calculate P Value\n",
    "\n",
    "p = stats.norm.sf(abs(z))\n",
    "\n",
    "print(f'p = {p}')\n",
    "\n",
    "\n",
    "# p = 0.03593031911292577, z = 1.8"
   ]
  },
  {
   "cell_type": "code",
   "execution_count": 27,
   "metadata": {},
   "outputs": [
    {
     "name": "stdout",
     "output_type": "stream",
     "text": [
      "True\n",
      "Since p < 0.05, we can reject the null hypothesis. The students' SAT scores are significantly higher than the population average.\n"
     ]
    }
   ],
   "source": [
    "# Interpret the results in terms of the p-value\n",
    "\n",
    "print(p < a)\n",
    "\n",
    "print(\"Since p < 0.05, we can reject the null hypothesis. \\\n",
    "The students' SAT scores are significantly higher than the population average.\")\n",
    "\n"
   ]
  },
  {
   "cell_type": "markdown",
   "metadata": {},
   "source": [
    "## Summary\n",
    "\n",
    "In this lesson, you conducted a couple of simple tests comparing sample and population means, in an attempt to reject our null hypotheses. This provides you with a strong foundation to move ahead with more advanced tests and approaches later on."
   ]
  }
 ],
 "metadata": {
  "kernelspec": {
   "display_name": "Python 3",
   "language": "python",
   "name": "python3"
  },
  "language_info": {
   "codemirror_mode": {
    "name": "ipython",
    "version": 3
   },
   "file_extension": ".py",
   "mimetype": "text/x-python",
   "name": "python",
   "nbconvert_exporter": "python",
   "pygments_lexer": "ipython3",
   "version": "3.8.5"
  },
  "toc": {
   "base_numbering": 1,
   "nav_menu": {},
   "number_sections": true,
   "sideBar": true,
   "skip_h1_title": false,
   "title_cell": "Table of Contents",
   "title_sidebar": "Contents",
   "toc_cell": false,
   "toc_position": {},
   "toc_section_display": true,
   "toc_window_display": false
  }
 },
 "nbformat": 4,
 "nbformat_minor": 2
}
